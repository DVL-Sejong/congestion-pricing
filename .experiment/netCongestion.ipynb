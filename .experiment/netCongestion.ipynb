{
 "cells": [
  {
   "cell_type": "code",
   "execution_count": 2,
   "metadata": {},
   "outputs": [],
   "source": [
    "def map_actual_value(value, min_value, max_value):\n",
    "    if max_value == min_value:\n",
    "        return 0\n",
    "    else:\n",
    "        return (value - min_value) / (max_value - min_value)"
   ]
  },
  {
   "cell_type": "code",
   "execution_count": 3,
   "metadata": {},
   "outputs": [],
   "source": [
    "import csv\n",
    "\n",
    "# Read the CSV data\n",
    "with open('../static/data/netCongestion.csv') as f:\n",
    "    reader = csv.DictReader(f)\n",
    "    data = list(reader)\n",
    "\n",
    "# Convert the Actual values to floats\n",
    "for item in data:\n",
    "    item['Actual'] = float(item['Actual'])\n",
    "\n",
    "# Find the min and max Actual values\n",
    "min_actual = min(item['Actual'] for item in data)\n",
    "max_actual = max(item['Actual'] for item in data)\n",
    "\n",
    "# Map the Actual values to a range of 0 to 1\n",
    "for item in data:\n",
    "    item['Mapped'] = map_actual_value(item['Actual'], min_actual, max_actual)\n"
   ]
  },
  {
   "cell_type": "code",
   "execution_count": 4,
   "metadata": {},
   "outputs": [
    {
     "data": {
      "text/plain": [
       "[{'Date': '2008-05-17', 'Actual': 879.0, 'Mapped': 0.22894168466522677},\n",
       " {'Date': '2008-05-18', 'Actual': 839.0, 'Mapped': 0.14254859611231102},\n",
       " {'Date': '2008-05-19', 'Actual': 886.0, 'Mapped': 0.24406047516198703},\n",
       " {'Date': '2008-05-20', 'Actual': 911.0, 'Mapped': 0.2980561555075594},\n",
       " {'Date': '2008-05-21', 'Actual': 918.0, 'Mapped': 0.31317494600431967},\n",
       " {'Date': '2008-05-22', 'Actual': 851.0, 'Mapped': 0.16846652267818574},\n",
       " {'Date': '2008-05-23', 'Actual': 831.0, 'Mapped': 0.12526997840172785},\n",
       " {'Date': '2008-05-24', 'Actual': 880.0, 'Mapped': 0.23110151187904968},\n",
       " {'Date': '2008-05-25', 'Actual': 933.0, 'Mapped': 0.34557235421166305},\n",
       " {'Date': '2008-05-26', 'Actual': 992.0, 'Mapped': 0.47300215982721383},\n",
       " {'Date': '2008-05-27', 'Actual': 865.0, 'Mapped': 0.19870410367170627},\n",
       " {'Date': '2008-05-28', 'Actual': 859.0, 'Mapped': 0.1857451403887689},\n",
       " {'Date': '2008-05-29', 'Actual': 853.0, 'Mapped': 0.17278617710583152},\n",
       " {'Date': '2008-05-30', 'Actual': 773.0, 'Mapped': 0.0},\n",
       " {'Date': '2008-05-31', 'Actual': 839.0, 'Mapped': 0.14254859611231102},\n",
       " {'Date': '2008-06-01', 'Actual': 898.0, 'Mapped': 0.26997840172786175},\n",
       " {'Date': '2008-06-02', 'Actual': 889.0, 'Mapped': 0.2505399568034557},\n",
       " {'Date': '2008-06-03', 'Actual': 841.0, 'Mapped': 0.1468682505399568},\n",
       " {'Date': '2008-06-04', 'Actual': 842.0, 'Mapped': 0.1490280777537797},\n",
       " {'Date': '2008-06-05', 'Actual': 851.0, 'Mapped': 0.16846652267818574},\n",
       " {'Date': '2008-06-06', 'Actual': 798.0, 'Mapped': 0.05399568034557235},\n",
       " {'Date': '2008-06-07', 'Actual': 798.0, 'Mapped': 0.05399568034557235},\n",
       " {'Date': '2008-06-08', 'Actual': 823.0, 'Mapped': 0.1079913606911447},\n",
       " {'Date': '2008-06-09', 'Actual': 1236.0, 'Mapped': 1.0}]"
      ]
     },
     "execution_count": 4,
     "metadata": {},
     "output_type": "execute_result"
    }
   ],
   "source": [
    "data"
   ]
  },
  {
   "cell_type": "code",
   "execution_count": 8,
   "metadata": {},
   "outputs": [],
   "source": [
    "with open('../static/data/netCongestion.csv', 'w', newline='') as f:\n",
    "    writer = csv.DictWriter(f, fieldnames=['Date', 'Actual', 'Mapped'])\n",
    "    writer.writeheader()\n",
    "    writer.writerows(data)"
   ]
  },
  {
   "cell_type": "code",
   "execution_count": 18,
   "metadata": {},
   "outputs": [
    {
     "name": "stdout",
     "output_type": "stream",
     "text": [
      "Date,Actual,Time\n",
      "2008-05-17,0,0\n",
      "2008-05-18,0,1\n",
      "2008-05-19,0,2\n",
      "2008-05-20,0,3\n",
      "2008-05-21,0,4\n",
      "2008-05-22,0,5\n",
      "2008-05-23,0,6\n",
      "2008-05-24,0,7\n",
      "2008-05-25,0,8\n",
      "2008-05-26,942,9\n",
      "2008-05-27,965,10\n",
      "2008-05-28,809,11\n",
      "2008-05-29,953,12\n",
      "2008-05-30,723,13\n",
      "2008-05-31,939,14\n",
      "2008-06-01,848,15\n",
      "2008-06-02,989,16\n",
      "2008-06-03,791,17\n",
      "2008-06-04,942,18\n",
      "2008-06-05,0,19\n",
      "2008-06-06,0,20\n",
      "2008-06-07,0,21\n",
      "2008-06-08,0,22\n",
      "2008-06-09,0,23\n",
      "\n"
     ]
    }
   ],
   "source": [
    "import pandas as pd\n",
    "import numpy as np\n",
    "\n",
    "# CSV 파일에서 데이터 불러오기\n",
    "df = pd.read_csv('../static/data/netCongestion.csv', parse_dates=['Date'])\n",
    "\n",
    "# Date 컬럼을 Datetime 형식으로 변경\n",
    "df['Date'] = pd.to_datetime(df['Date'])\n",
    "\n",
    "# Time 컬럼 추가\n",
    "df['Time'] = pd.date_range('00:00', periods=len(df), freq='H').hour\n",
    "\n",
    "# 출근시간과 퇴근시간 설정\n",
    "start_time = 9\n",
    "end_time = 18\n",
    "\n",
    "# 출근시간 전과 퇴근시간 후에는 Actual 값을 0으로 설정\n",
    "df.loc[df['Time'] < start_time, 'Actual'] = 0\n",
    "df.loc[df['Time'] > end_time, 'Actual'] = 0\n",
    "\n",
    "# 시간별 Actual 값을 다르게 만들기\n",
    "for i in range(start_time, end_time+1):\n",
    "    if i % 2 == 0:\n",
    "        df.loc[df['Time'] == i, 'Actual'] += 100\n",
    "    else:\n",
    "        df.loc[df['Time'] == i, 'Actual'] -= 50\n",
    "\n",
    "# Actual 값이 음수인 경우 0으로 설정\n",
    "df.loc[df['Actual'] < 0, 'Actual'] = 0\n",
    "\n",
    "# Time 컬럼을 0에서 24의 정수로 변경\n",
    "df['Time'] = df['Time'].astype(int)\n",
    "\n",
    "# 결과 출력\n",
    "print(df.to_csv(index=False))"
   ]
  },
  {
   "cell_type": "code",
   "execution_count": 2,
   "metadata": {},
   "outputs": [
    {
     "name": "stdout",
     "output_type": "stream",
     "text": [
      "          Date  Actual  Actual_norm  Actual_adj\n",
      "0   2008-05-17     879          NaN         NaN\n",
      "1   2008-05-18     839          NaN         NaN\n",
      "2   2008-05-19     886          NaN         NaN\n",
      "3   2008-05-20     911          NaN         NaN\n",
      "4   2008-05-21     918          NaN         NaN\n",
      "5   2008-05-22     851          NaN         NaN\n",
      "6   2008-05-23     831          NaN         NaN\n",
      "7   2008-05-24     880          NaN         NaN\n",
      "8   2008-05-25     933          NaN         NaN\n",
      "9   2008-05-26     992          NaN         NaN\n",
      "10  2008-05-27     865          NaN         NaN\n",
      "11  2008-05-28     859          NaN         NaN\n",
      "12  2008-05-29     853          NaN         NaN\n",
      "13  2008-05-30     773          NaN         NaN\n",
      "14  2008-05-31     839          NaN         NaN\n",
      "15  2008-06-01     898          NaN         NaN\n",
      "16  2008-06-02     889          NaN         NaN\n",
      "17  2008-06-03     841          NaN         NaN\n",
      "18  2008-06-04     842          NaN         NaN\n",
      "19  2008-06-05     851          NaN         NaN\n",
      "20  2008-06-06     798          NaN         NaN\n",
      "21  2008-06-07     798          NaN         NaN\n",
      "22  2008-06-08     823          NaN         NaN\n",
      "23  2008-06-09    1236          NaN         NaN\n"
     ]
    }
   ],
   "source": [
    "import pandas as pd\n",
    "import numpy as np\n",
    "\n",
    "# 데이터 불러오기\n",
    "df = pd.read_csv('../static/data/netCongestion.csv')\n",
    "\n",
    "# Actual 값 정규화\n",
    "df['Actual_norm'] = (df['Actual'] - df.groupby('Date')['Actual'].transform('min')) / (df.groupby('Date')['Actual'].transform('max') - df.groupby('Date')['Actual'].transform('min'))\n",
    "\n",
    "# Actual 값 조정\n",
    "df['Actual_adj'] = df['Actual_norm'] * (df.groupby('Date')['Actual_norm'].transform('max') - df.groupby('Date')['Actual_norm'].transform('min')) + df.groupby('Date')['Actual_norm'].transform('min')\n",
    "\n",
    "# 결과 출력\n",
    "print(df)\n"
   ]
  }
 ],
 "metadata": {
  "kernelspec": {
   "display_name": ".venv",
   "language": "python",
   "name": "python3"
  },
  "language_info": {
   "codemirror_mode": {
    "name": "ipython",
    "version": 3
   },
   "file_extension": ".py",
   "mimetype": "text/x-python",
   "name": "python",
   "nbconvert_exporter": "python",
   "pygments_lexer": "ipython3",
   "version": "3.10.5"
  },
  "orig_nbformat": 4
 },
 "nbformat": 4,
 "nbformat_minor": 2
}
