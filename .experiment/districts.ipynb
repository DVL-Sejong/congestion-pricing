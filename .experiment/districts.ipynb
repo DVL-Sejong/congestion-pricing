{
 "cells": [
  {
   "cell_type": "code",
   "execution_count": 4,
   "metadata": {},
   "outputs": [
    {
     "name": "stdout",
     "output_type": "stream",
     "text": [
      "['Western Addition', 'West of Twin Peaks', 'Visitacion Valley', 'Twin Peaks', 'South of Market', 'Treasure Island', 'Presidio Heights', 'Presidio', 'Potrero Hill', 'Portola', 'Pacific Heights', 'Outer Richmond', 'Outer Mission', 'Sunset/Parkside', 'Oceanview/Merced/Ingleside', 'North Beach', 'Noe Valley', 'Lone Mountain/USF', 'Lincoln Park', 'Seacliff', 'Nob Hill', 'Mission Bay', 'Mission', 'Russian Hill', 'Marina', 'Lakeshore', 'Tenderloin', 'McLaren Park', 'Japantown', 'Inner Sunset', 'Hayes Valley', 'Haight Ashbury', 'Golden Gate Park', 'Inner Richmond', 'Glen Park', 'Financial District/South Beach', 'Excelsior', 'Chinatown', 'Castro/Upper Market', 'Bernal Heights', 'Bayview Hunters Point']\n"
     ]
    }
   ],
   "source": [
    "import json\n",
    "\n",
    "# GeoJSON 파일을 열고 파싱\n",
    "with open('../static/data/sanfrancisco/Analysis Neighborhoods(b).geojson') as f:\n",
    "    data = json.load(f)\n",
    "\n",
    "# FeatureCollection 내의 모든 feature의 \"nhood\" 속성값 추출\n",
    "nhood_list = [feature['properties']['nhood'] for feature in data['features']]\n",
    "\n",
    "print(nhood_list)"
   ]
  },
  {
   "cell_type": "code",
   "execution_count": 12,
   "metadata": {},
   "outputs": [
    {
     "name": "stdout",
     "output_type": "stream",
     "text": [
      "South_of_Market\n",
      "North_Beach\n",
      "Nob_Hill\n",
      "Mission_Bay\n",
      "Russian_Hill\n",
      "Tenderloin\n",
      "Financial_District_South_Beach\n"
     ]
    }
   ],
   "source": [
    "import os\n",
    "\n",
    "for nhood in nhood_list:\n",
    "    name = nhood.replace(\" \", \"_\").replace(\"/\", \"_\")\n",
    "    if os.path.exists(f\"../static/data/sanfrancisco/districts/{name}.csv\"):\n",
    "        print(name)"
   ]
  },
  {
   "cell_type": "code",
   "execution_count": null,
   "metadata": {},
   "outputs": [],
   "source": []
  }
 ],
 "metadata": {
  "kernelspec": {
   "display_name": ".venv",
   "language": "python",
   "name": "python3"
  },
  "language_info": {
   "codemirror_mode": {
    "name": "ipython",
    "version": 3
   },
   "file_extension": ".py",
   "mimetype": "text/x-python",
   "name": "python",
   "nbconvert_exporter": "python",
   "pygments_lexer": "ipython3",
   "version": "3.10.10"
  },
  "orig_nbformat": 4
 },
 "nbformat": 4,
 "nbformat_minor": 2
}
