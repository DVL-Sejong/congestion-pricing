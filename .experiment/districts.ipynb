{
 "cells": [
  {
   "cell_type": "code",
   "execution_count": 4,
   "metadata": {},
   "outputs": [
    {
     "name": "stdout",
     "output_type": "stream",
     "text": [
      "['Western Addition', 'West of Twin Peaks', 'Visitacion Valley', 'Twin Peaks', 'South of Market', 'Treasure Island', 'Presidio Heights', 'Presidio', 'Potrero Hill', 'Portola', 'Pacific Heights', 'Outer Richmond', 'Outer Mission', 'Sunset/Parkside', 'Oceanview/Merced/Ingleside', 'North Beach', 'Noe Valley', 'Lone Mountain/USF', 'Lincoln Park', 'Seacliff', 'Nob Hill', 'Mission Bay', 'Mission', 'Russian Hill', 'Marina', 'Lakeshore', 'Tenderloin', 'McLaren Park', 'Japantown', 'Inner Sunset', 'Hayes Valley', 'Haight Ashbury', 'Golden Gate Park', 'Inner Richmond', 'Glen Park', 'Financial District/South Beach', 'Excelsior', 'Chinatown', 'Castro/Upper Market', 'Bernal Heights', 'Bayview Hunters Point']\n"
     ]
    }
   ],
   "source": [
    "import json\n",
    "\n",
    "# GeoJSON 파일을 열고 파싱\n",
    "with open('../static/data/sanfrancisco/Analysis Neighborhoods(b).geojson') as f:\n",
    "    data = json.load(f)\n",
    "\n",
    "# FeatureCollection 내의 모든 feature의 \"nhood\" 속성값 추출\n",
    "nhood_list = [feature['properties']['nhood'] for feature in data['features']]\n",
    "\n",
    "print(nhood_list)"
   ]
  },
  {
   "cell_type": "code",
   "execution_count": 12,
   "metadata": {},
   "outputs": [
    {
     "name": "stdout",
     "output_type": "stream",
     "text": [
      "South_of_Market\n",
      "North_Beach\n",
      "Nob_Hill\n",
      "Mission_Bay\n",
      "Russian_Hill\n",
      "Tenderloin\n",
      "Financial_District_South_Beach\n"
     ]
    }
   ],
   "source": [
    "import os\n",
    "\n",
    "for nhood in nhood_list:\n",
    "    name = nhood.replace(\" \", \"_\").replace(\"/\", \"_\")\n",
    "    if os.path.exists(f\"../static/data/sanfrancisco/districts/{name}.csv\"):\n",
    "        print(name)"
   ]
  },
  {
   "cell_type": "code",
   "execution_count": 2,
   "metadata": {},
   "outputs": [],
   "source": [
    "import pandas as pd"
   ]
  },
  {
   "cell_type": "code",
   "execution_count": 4,
   "metadata": {},
   "outputs": [],
   "source": [
    "road_tci_time_df = pd.read_csv(\"../static/data/sanfrancisco/road_tci_time.csv\")"
   ]
  },
  {
   "cell_type": "code",
   "execution_count": 15,
   "metadata": {},
   "outputs": [
    {
     "data": {
      "text/plain": [
       "Index(['Time', '0', '1', '2', '3', '4', '5', '6', '7', '8',\n",
       "       ...\n",
       "       '4458', '4459', '4460', '4461', '4462', '4463', '4464', '4465', '4466',\n",
       "       '4467'],\n",
       "      dtype='object', length=4469)"
      ]
     },
     "execution_count": 15,
     "metadata": {},
     "output_type": "execute_result"
    }
   ],
   "source": [
    "road_tci_time_df.columns"
   ]
  },
  {
   "cell_type": "code",
   "execution_count": 14,
   "metadata": {},
   "outputs": [
    {
     "data": {
      "text/plain": [
       "0      2008-05-17 00:00:00\n",
       "1      2008-05-17 01:00:00\n",
       "2      2008-05-17 02:00:00\n",
       "3      2008-05-17 03:00:00\n",
       "4      2008-05-17 04:00:00\n",
       "              ...         \n",
       "581    2008-06-10 05:00:00\n",
       "582    2008-06-10 06:00:00\n",
       "583    2008-06-10 07:00:00\n",
       "584    2008-06-10 08:00:00\n",
       "585    2008-06-10 09:00:00\n",
       "Name: Time, Length: 586, dtype: object"
      ]
     },
     "execution_count": 14,
     "metadata": {},
     "output_type": "execute_result"
    }
   ],
   "source": [
    "road_tci_time_df.loc[:, 'Time']"
   ]
  },
  {
   "cell_type": "code",
   "execution_count": 27,
   "metadata": {},
   "outputs": [
    {
     "data": {
      "text/html": [
       "<div>\n",
       "<style scoped>\n",
       "    .dataframe tbody tr th:only-of-type {\n",
       "        vertical-align: middle;\n",
       "    }\n",
       "\n",
       "    .dataframe tbody tr th {\n",
       "        vertical-align: top;\n",
       "    }\n",
       "\n",
       "    .dataframe thead th {\n",
       "        text-align: right;\n",
       "    }\n",
       "</style>\n",
       "<table border=\"1\" class=\"dataframe\">\n",
       "  <thead>\n",
       "    <tr style=\"text-align: right;\">\n",
       "      <th></th>\n",
       "      <th>Time</th>\n",
       "      <th>0</th>\n",
       "      <th>1</th>\n",
       "      <th>2</th>\n",
       "      <th>3</th>\n",
       "      <th>4</th>\n",
       "      <th>5</th>\n",
       "      <th>6</th>\n",
       "      <th>7</th>\n",
       "      <th>8</th>\n",
       "      <th>...</th>\n",
       "      <th>4458</th>\n",
       "      <th>4459</th>\n",
       "      <th>4460</th>\n",
       "      <th>4461</th>\n",
       "      <th>4462</th>\n",
       "      <th>4463</th>\n",
       "      <th>4464</th>\n",
       "      <th>4465</th>\n",
       "      <th>4466</th>\n",
       "      <th>4467</th>\n",
       "    </tr>\n",
       "  </thead>\n",
       "  <tbody>\n",
       "    <tr>\n",
       "      <th>24</th>\n",
       "      <td>2008-05-18 00:00:00</td>\n",
       "      <td>NaN</td>\n",
       "      <td>NaN</td>\n",
       "      <td>NaN</td>\n",
       "      <td>0.311525</td>\n",
       "      <td>NaN</td>\n",
       "      <td>NaN</td>\n",
       "      <td>NaN</td>\n",
       "      <td>NaN</td>\n",
       "      <td>NaN</td>\n",
       "      <td>...</td>\n",
       "      <td>NaN</td>\n",
       "      <td>NaN</td>\n",
       "      <td>NaN</td>\n",
       "      <td>NaN</td>\n",
       "      <td>NaN</td>\n",
       "      <td>0.100368</td>\n",
       "      <td>NaN</td>\n",
       "      <td>NaN</td>\n",
       "      <td>0.382273</td>\n",
       "      <td>NaN</td>\n",
       "    </tr>\n",
       "    <tr>\n",
       "      <th>25</th>\n",
       "      <td>2008-05-18 01:00:00</td>\n",
       "      <td>NaN</td>\n",
       "      <td>NaN</td>\n",
       "      <td>NaN</td>\n",
       "      <td>0.416387</td>\n",
       "      <td>NaN</td>\n",
       "      <td>NaN</td>\n",
       "      <td>NaN</td>\n",
       "      <td>NaN</td>\n",
       "      <td>NaN</td>\n",
       "      <td>...</td>\n",
       "      <td>NaN</td>\n",
       "      <td>NaN</td>\n",
       "      <td>NaN</td>\n",
       "      <td>1.120943</td>\n",
       "      <td>NaN</td>\n",
       "      <td>NaN</td>\n",
       "      <td>0.489441</td>\n",
       "      <td>NaN</td>\n",
       "      <td>NaN</td>\n",
       "      <td>NaN</td>\n",
       "    </tr>\n",
       "    <tr>\n",
       "      <th>26</th>\n",
       "      <td>2008-05-18 02:00:00</td>\n",
       "      <td>NaN</td>\n",
       "      <td>NaN</td>\n",
       "      <td>NaN</td>\n",
       "      <td>0.765707</td>\n",
       "      <td>NaN</td>\n",
       "      <td>NaN</td>\n",
       "      <td>NaN</td>\n",
       "      <td>NaN</td>\n",
       "      <td>NaN</td>\n",
       "      <td>...</td>\n",
       "      <td>NaN</td>\n",
       "      <td>NaN</td>\n",
       "      <td>0.155719</td>\n",
       "      <td>1.153277</td>\n",
       "      <td>NaN</td>\n",
       "      <td>NaN</td>\n",
       "      <td>NaN</td>\n",
       "      <td>NaN</td>\n",
       "      <td>0.891267</td>\n",
       "      <td>NaN</td>\n",
       "    </tr>\n",
       "    <tr>\n",
       "      <th>27</th>\n",
       "      <td>2008-05-18 03:00:00</td>\n",
       "      <td>NaN</td>\n",
       "      <td>NaN</td>\n",
       "      <td>NaN</td>\n",
       "      <td>NaN</td>\n",
       "      <td>NaN</td>\n",
       "      <td>NaN</td>\n",
       "      <td>NaN</td>\n",
       "      <td>NaN</td>\n",
       "      <td>NaN</td>\n",
       "      <td>...</td>\n",
       "      <td>NaN</td>\n",
       "      <td>NaN</td>\n",
       "      <td>0.938465</td>\n",
       "      <td>NaN</td>\n",
       "      <td>NaN</td>\n",
       "      <td>NaN</td>\n",
       "      <td>0.386893</td>\n",
       "      <td>NaN</td>\n",
       "      <td>NaN</td>\n",
       "      <td>NaN</td>\n",
       "    </tr>\n",
       "    <tr>\n",
       "      <th>28</th>\n",
       "      <td>2008-05-18 04:00:00</td>\n",
       "      <td>NaN</td>\n",
       "      <td>NaN</td>\n",
       "      <td>NaN</td>\n",
       "      <td>NaN</td>\n",
       "      <td>NaN</td>\n",
       "      <td>NaN</td>\n",
       "      <td>NaN</td>\n",
       "      <td>NaN</td>\n",
       "      <td>NaN</td>\n",
       "      <td>...</td>\n",
       "      <td>NaN</td>\n",
       "      <td>NaN</td>\n",
       "      <td>NaN</td>\n",
       "      <td>0.772096</td>\n",
       "      <td>NaN</td>\n",
       "      <td>NaN</td>\n",
       "      <td>0.870682</td>\n",
       "      <td>NaN</td>\n",
       "      <td>NaN</td>\n",
       "      <td>NaN</td>\n",
       "    </tr>\n",
       "    <tr>\n",
       "      <th>...</th>\n",
       "      <td>...</td>\n",
       "      <td>...</td>\n",
       "      <td>...</td>\n",
       "      <td>...</td>\n",
       "      <td>...</td>\n",
       "      <td>...</td>\n",
       "      <td>...</td>\n",
       "      <td>...</td>\n",
       "      <td>...</td>\n",
       "      <td>...</td>\n",
       "      <td>...</td>\n",
       "      <td>...</td>\n",
       "      <td>...</td>\n",
       "      <td>...</td>\n",
       "      <td>...</td>\n",
       "      <td>...</td>\n",
       "      <td>...</td>\n",
       "      <td>...</td>\n",
       "      <td>...</td>\n",
       "      <td>...</td>\n",
       "      <td>...</td>\n",
       "    </tr>\n",
       "    <tr>\n",
       "      <th>523</th>\n",
       "      <td>2008-06-07 19:00:00</td>\n",
       "      <td>NaN</td>\n",
       "      <td>NaN</td>\n",
       "      <td>NaN</td>\n",
       "      <td>NaN</td>\n",
       "      <td>NaN</td>\n",
       "      <td>NaN</td>\n",
       "      <td>NaN</td>\n",
       "      <td>NaN</td>\n",
       "      <td>NaN</td>\n",
       "      <td>...</td>\n",
       "      <td>NaN</td>\n",
       "      <td>NaN</td>\n",
       "      <td>NaN</td>\n",
       "      <td>NaN</td>\n",
       "      <td>NaN</td>\n",
       "      <td>NaN</td>\n",
       "      <td>NaN</td>\n",
       "      <td>NaN</td>\n",
       "      <td>0.571317</td>\n",
       "      <td>NaN</td>\n",
       "    </tr>\n",
       "    <tr>\n",
       "      <th>524</th>\n",
       "      <td>2008-06-07 20:00:00</td>\n",
       "      <td>NaN</td>\n",
       "      <td>NaN</td>\n",
       "      <td>NaN</td>\n",
       "      <td>NaN</td>\n",
       "      <td>NaN</td>\n",
       "      <td>NaN</td>\n",
       "      <td>NaN</td>\n",
       "      <td>NaN</td>\n",
       "      <td>NaN</td>\n",
       "      <td>...</td>\n",
       "      <td>NaN</td>\n",
       "      <td>0.638304</td>\n",
       "      <td>NaN</td>\n",
       "      <td>NaN</td>\n",
       "      <td>NaN</td>\n",
       "      <td>NaN</td>\n",
       "      <td>NaN</td>\n",
       "      <td>NaN</td>\n",
       "      <td>1.344598</td>\n",
       "      <td>NaN</td>\n",
       "    </tr>\n",
       "    <tr>\n",
       "      <th>525</th>\n",
       "      <td>2008-06-07 21:00:00</td>\n",
       "      <td>NaN</td>\n",
       "      <td>NaN</td>\n",
       "      <td>NaN</td>\n",
       "      <td>NaN</td>\n",
       "      <td>NaN</td>\n",
       "      <td>NaN</td>\n",
       "      <td>NaN</td>\n",
       "      <td>NaN</td>\n",
       "      <td>NaN</td>\n",
       "      <td>...</td>\n",
       "      <td>NaN</td>\n",
       "      <td>0.518015</td>\n",
       "      <td>0.395839</td>\n",
       "      <td>NaN</td>\n",
       "      <td>NaN</td>\n",
       "      <td>0.791005</td>\n",
       "      <td>NaN</td>\n",
       "      <td>NaN</td>\n",
       "      <td>0.247203</td>\n",
       "      <td>NaN</td>\n",
       "    </tr>\n",
       "    <tr>\n",
       "      <th>526</th>\n",
       "      <td>2008-06-07 22:00:00</td>\n",
       "      <td>NaN</td>\n",
       "      <td>NaN</td>\n",
       "      <td>NaN</td>\n",
       "      <td>0.979503</td>\n",
       "      <td>NaN</td>\n",
       "      <td>NaN</td>\n",
       "      <td>NaN</td>\n",
       "      <td>NaN</td>\n",
       "      <td>NaN</td>\n",
       "      <td>...</td>\n",
       "      <td>NaN</td>\n",
       "      <td>NaN</td>\n",
       "      <td>NaN</td>\n",
       "      <td>NaN</td>\n",
       "      <td>NaN</td>\n",
       "      <td>NaN</td>\n",
       "      <td>0.531773</td>\n",
       "      <td>NaN</td>\n",
       "      <td>0.741217</td>\n",
       "      <td>NaN</td>\n",
       "    </tr>\n",
       "    <tr>\n",
       "      <th>527</th>\n",
       "      <td>2008-06-07 23:00:00</td>\n",
       "      <td>NaN</td>\n",
       "      <td>NaN</td>\n",
       "      <td>NaN</td>\n",
       "      <td>1.075241</td>\n",
       "      <td>NaN</td>\n",
       "      <td>NaN</td>\n",
       "      <td>NaN</td>\n",
       "      <td>NaN</td>\n",
       "      <td>NaN</td>\n",
       "      <td>...</td>\n",
       "      <td>NaN</td>\n",
       "      <td>NaN</td>\n",
       "      <td>NaN</td>\n",
       "      <td>NaN</td>\n",
       "      <td>1.01962</td>\n",
       "      <td>NaN</td>\n",
       "      <td>1.245312</td>\n",
       "      <td>NaN</td>\n",
       "      <td>1.428117</td>\n",
       "      <td>NaN</td>\n",
       "    </tr>\n",
       "  </tbody>\n",
       "</table>\n",
       "<p>504 rows × 4469 columns</p>\n",
       "</div>"
      ],
      "text/plain": [
       "                    Time   0   1   2         3   4   5   6   7   8  ...  4458  \\\n",
       "24   2008-05-18 00:00:00 NaN NaN NaN  0.311525 NaN NaN NaN NaN NaN  ...   NaN   \n",
       "25   2008-05-18 01:00:00 NaN NaN NaN  0.416387 NaN NaN NaN NaN NaN  ...   NaN   \n",
       "26   2008-05-18 02:00:00 NaN NaN NaN  0.765707 NaN NaN NaN NaN NaN  ...   NaN   \n",
       "27   2008-05-18 03:00:00 NaN NaN NaN       NaN NaN NaN NaN NaN NaN  ...   NaN   \n",
       "28   2008-05-18 04:00:00 NaN NaN NaN       NaN NaN NaN NaN NaN NaN  ...   NaN   \n",
       "..                   ...  ..  ..  ..       ...  ..  ..  ..  ..  ..  ...   ...   \n",
       "523  2008-06-07 19:00:00 NaN NaN NaN       NaN NaN NaN NaN NaN NaN  ...   NaN   \n",
       "524  2008-06-07 20:00:00 NaN NaN NaN       NaN NaN NaN NaN NaN NaN  ...   NaN   \n",
       "525  2008-06-07 21:00:00 NaN NaN NaN       NaN NaN NaN NaN NaN NaN  ...   NaN   \n",
       "526  2008-06-07 22:00:00 NaN NaN NaN  0.979503 NaN NaN NaN NaN NaN  ...   NaN   \n",
       "527  2008-06-07 23:00:00 NaN NaN NaN  1.075241 NaN NaN NaN NaN NaN  ...   NaN   \n",
       "\n",
       "         4459      4460      4461     4462      4463      4464  4465  \\\n",
       "24        NaN       NaN       NaN      NaN  0.100368       NaN   NaN   \n",
       "25        NaN       NaN  1.120943      NaN       NaN  0.489441   NaN   \n",
       "26        NaN  0.155719  1.153277      NaN       NaN       NaN   NaN   \n",
       "27        NaN  0.938465       NaN      NaN       NaN  0.386893   NaN   \n",
       "28        NaN       NaN  0.772096      NaN       NaN  0.870682   NaN   \n",
       "..        ...       ...       ...      ...       ...       ...   ...   \n",
       "523       NaN       NaN       NaN      NaN       NaN       NaN   NaN   \n",
       "524  0.638304       NaN       NaN      NaN       NaN       NaN   NaN   \n",
       "525  0.518015  0.395839       NaN      NaN  0.791005       NaN   NaN   \n",
       "526       NaN       NaN       NaN      NaN       NaN  0.531773   NaN   \n",
       "527       NaN       NaN       NaN  1.01962       NaN  1.245312   NaN   \n",
       "\n",
       "         4466  4467  \n",
       "24   0.382273   NaN  \n",
       "25        NaN   NaN  \n",
       "26   0.891267   NaN  \n",
       "27        NaN   NaN  \n",
       "28        NaN   NaN  \n",
       "..        ...   ...  \n",
       "523  0.571317   NaN  \n",
       "524  1.344598   NaN  \n",
       "525  0.247203   NaN  \n",
       "526  0.741217   NaN  \n",
       "527  1.428117   NaN  \n",
       "\n",
       "[504 rows x 4469 columns]"
      ]
     },
     "execution_count": 27,
     "metadata": {},
     "output_type": "execute_result"
    }
   ],
   "source": [
    "dest_field = 'Time'\n",
    "road_tci_time_df[(road_tci_time_df[dest_field] > '2008-05-18') & (road_tci_time_df[dest_field] < '2008-06-08')]"
   ]
  },
  {
   "cell_type": "code",
   "execution_count": 30,
   "metadata": {},
   "outputs": [],
   "source": [
    "filtered = road_tci_time_df[(road_tci_time_df[dest_field] > '2008-05-18') & (road_tci_time_df[dest_field] < '2008-06-08')]"
   ]
  },
  {
   "cell_type": "code",
   "execution_count": 37,
   "metadata": {},
   "outputs": [
    {
     "data": {
      "text/plain": [
       "Time    2008-06-07 23:00:00\n",
       "0                  1.137873\n",
       "1                  1.895486\n",
       "2                  1.265882\n",
       "3                  1.242666\n",
       "               ...         \n",
       "4463               1.236477\n",
       "4464                 1.7749\n",
       "4465               1.263293\n",
       "4466                1.57736\n",
       "4467               1.486569\n",
       "Length: 4469, dtype: object"
      ]
     },
     "execution_count": 37,
     "metadata": {},
     "output_type": "execute_result"
    }
   ],
   "source": [
    "filtered.max()"
   ]
  },
  {
   "cell_type": "code",
   "execution_count": 45,
   "metadata": {},
   "outputs": [
    {
     "data": {
      "text/plain": [
       "1.4865687465898267"
      ]
     },
     "execution_count": 45,
     "metadata": {},
     "output_type": "execute_result"
    }
   ],
   "source": [
    "filtered.max()['4467']"
   ]
  },
  {
   "cell_type": "code",
   "execution_count": 64,
   "metadata": {},
   "outputs": [
    {
     "data": {
      "text/html": [
       "<div>\n",
       "<style scoped>\n",
       "    .dataframe tbody tr th:only-of-type {\n",
       "        vertical-align: middle;\n",
       "    }\n",
       "\n",
       "    .dataframe tbody tr th {\n",
       "        vertical-align: top;\n",
       "    }\n",
       "\n",
       "    .dataframe thead th {\n",
       "        text-align: right;\n",
       "    }\n",
       "</style>\n",
       "<table border=\"1\" class=\"dataframe\">\n",
       "  <thead>\n",
       "    <tr style=\"text-align: right;\">\n",
       "      <th></th>\n",
       "      <th>0</th>\n",
       "      <th>4456</th>\n",
       "    </tr>\n",
       "  </thead>\n",
       "  <tbody>\n",
       "    <tr>\n",
       "      <th>24</th>\n",
       "      <td>NaN</td>\n",
       "      <td>NaN</td>\n",
       "    </tr>\n",
       "    <tr>\n",
       "      <th>25</th>\n",
       "      <td>NaN</td>\n",
       "      <td>NaN</td>\n",
       "    </tr>\n",
       "    <tr>\n",
       "      <th>26</th>\n",
       "      <td>NaN</td>\n",
       "      <td>0.747268</td>\n",
       "    </tr>\n",
       "    <tr>\n",
       "      <th>27</th>\n",
       "      <td>NaN</td>\n",
       "      <td>NaN</td>\n",
       "    </tr>\n",
       "    <tr>\n",
       "      <th>28</th>\n",
       "      <td>NaN</td>\n",
       "      <td>NaN</td>\n",
       "    </tr>\n",
       "    <tr>\n",
       "      <th>...</th>\n",
       "      <td>...</td>\n",
       "      <td>...</td>\n",
       "    </tr>\n",
       "    <tr>\n",
       "      <th>523</th>\n",
       "      <td>NaN</td>\n",
       "      <td>NaN</td>\n",
       "    </tr>\n",
       "    <tr>\n",
       "      <th>524</th>\n",
       "      <td>NaN</td>\n",
       "      <td>NaN</td>\n",
       "    </tr>\n",
       "    <tr>\n",
       "      <th>525</th>\n",
       "      <td>NaN</td>\n",
       "      <td>NaN</td>\n",
       "    </tr>\n",
       "    <tr>\n",
       "      <th>526</th>\n",
       "      <td>NaN</td>\n",
       "      <td>1.069712</td>\n",
       "    </tr>\n",
       "    <tr>\n",
       "      <th>527</th>\n",
       "      <td>NaN</td>\n",
       "      <td>NaN</td>\n",
       "    </tr>\n",
       "  </tbody>\n",
       "</table>\n",
       "<p>504 rows × 2 columns</p>\n",
       "</div>"
      ],
      "text/plain": [
       "      0      4456\n",
       "24  NaN       NaN\n",
       "25  NaN       NaN\n",
       "26  NaN  0.747268\n",
       "27  NaN       NaN\n",
       "28  NaN       NaN\n",
       "..   ..       ...\n",
       "523 NaN       NaN\n",
       "524 NaN       NaN\n",
       "525 NaN       NaN\n",
       "526 NaN  1.069712\n",
       "527 NaN       NaN\n",
       "\n",
       "[504 rows x 2 columns]"
      ]
     },
     "execution_count": 64,
     "metadata": {},
     "output_type": "execute_result"
    }
   ],
   "source": [
    "filtered[['0', '4456']]"
   ]
  },
  {
   "cell_type": "code",
   "execution_count": 83,
   "metadata": {},
   "outputs": [
    {
     "data": {
      "text/plain": [
       "0.8243927019399051"
      ]
     },
     "execution_count": 83,
     "metadata": {},
     "output_type": "execute_result"
    }
   ],
   "source": [
    "filtered[['0', '4456']].mean().mean()"
   ]
  },
  {
   "cell_type": "code",
   "execution_count": 82,
   "metadata": {},
   "outputs": [
    {
     "data": {
      "text/plain": [
       "0.768037659694927"
      ]
     },
     "execution_count": 82,
     "metadata": {},
     "output_type": "execute_result"
    }
   ],
   "source": [
    "filtered[['0', '4456']].mean(axis=1).mean()"
   ]
  },
  {
   "cell_type": "code",
   "execution_count": 78,
   "metadata": {},
   "outputs": [
    {
     "data": {
      "text/html": [
       "<div>\n",
       "<style scoped>\n",
       "    .dataframe tbody tr th:only-of-type {\n",
       "        vertical-align: middle;\n",
       "    }\n",
       "\n",
       "    .dataframe tbody tr th {\n",
       "        vertical-align: top;\n",
       "    }\n",
       "\n",
       "    .dataframe thead th {\n",
       "        text-align: right;\n",
       "    }\n",
       "</style>\n",
       "<table border=\"1\" class=\"dataframe\">\n",
       "  <thead>\n",
       "    <tr style=\"text-align: right;\">\n",
       "      <th></th>\n",
       "      <th>0</th>\n",
       "      <th>4456</th>\n",
       "    </tr>\n",
       "  </thead>\n",
       "  <tbody>\n",
       "    <tr>\n",
       "      <th>count</th>\n",
       "      <td>10.000000</td>\n",
       "      <td>200.000000</td>\n",
       "    </tr>\n",
       "    <tr>\n",
       "      <th>mean</th>\n",
       "      <td>0.884832</td>\n",
       "      <td>0.763954</td>\n",
       "    </tr>\n",
       "    <tr>\n",
       "      <th>std</th>\n",
       "      <td>0.178032</td>\n",
       "      <td>0.285428</td>\n",
       "    </tr>\n",
       "    <tr>\n",
       "      <th>min</th>\n",
       "      <td>0.581744</td>\n",
       "      <td>0.066600</td>\n",
       "    </tr>\n",
       "    <tr>\n",
       "      <th>25%</th>\n",
       "      <td>0.786093</td>\n",
       "      <td>0.562392</td>\n",
       "    </tr>\n",
       "    <tr>\n",
       "      <th>50%</th>\n",
       "      <td>0.918904</td>\n",
       "      <td>0.771733</td>\n",
       "    </tr>\n",
       "    <tr>\n",
       "      <th>75%</th>\n",
       "      <td>1.005007</td>\n",
       "      <td>1.006913</td>\n",
       "    </tr>\n",
       "    <tr>\n",
       "      <th>max</th>\n",
       "      <td>1.137873</td>\n",
       "      <td>1.215236</td>\n",
       "    </tr>\n",
       "  </tbody>\n",
       "</table>\n",
       "</div>"
      ],
      "text/plain": [
       "               0        4456\n",
       "count  10.000000  200.000000\n",
       "mean    0.884832    0.763954\n",
       "std     0.178032    0.285428\n",
       "min     0.581744    0.066600\n",
       "25%     0.786093    0.562392\n",
       "50%     0.918904    0.771733\n",
       "75%     1.005007    1.006913\n",
       "max     1.137873    1.215236"
      ]
     },
     "execution_count": 78,
     "metadata": {},
     "output_type": "execute_result"
    }
   ],
   "source": [
    "filtered[['0', '4456']].describe()"
   ]
  },
  {
   "cell_type": "code",
   "execution_count": 86,
   "metadata": {},
   "outputs": [
    {
     "data": {
      "text/plain": [
       "210"
      ]
     },
     "execution_count": 86,
     "metadata": {},
     "output_type": "execute_result"
    }
   ],
   "source": [
    "filtered[['0', '4456']].count().sum()"
   ]
  },
  {
   "cell_type": "code",
   "execution_count": 87,
   "metadata": {},
   "outputs": [
    {
     "data": {
      "text/plain": [
       "0.7697096453429392"
      ]
     },
     "execution_count": 87,
     "metadata": {},
     "output_type": "execute_result"
    }
   ],
   "source": [
    "filtered[['0', '4456']].sum().sum() / filtered[['0', '4456']].count().sum()"
   ]
  },
  {
   "cell_type": "code",
   "execution_count": 104,
   "metadata": {},
   "outputs": [
    {
     "data": {
      "text/plain": [
       "Time    504\n",
       "0        10\n",
       "1        10\n",
       "2        65\n",
       "3       153\n",
       "       ... \n",
       "4463    149\n",
       "4464    249\n",
       "4465     81\n",
       "4466    296\n",
       "4467     31\n",
       "Length: 4469, dtype: int64"
      ]
     },
     "execution_count": 104,
     "metadata": {},
     "output_type": "execute_result"
    }
   ],
   "source": [
    "filtered.count()"
   ]
  },
  {
   "cell_type": "code",
   "execution_count": 116,
   "metadata": {},
   "outputs": [
    {
     "name": "stdout",
     "output_type": "stream",
     "text": [
      "2008-06-07 23:00:00\n",
      "2008-06-07 00:00:00\n"
     ]
    }
   ],
   "source": [
    "from datetime import datetime\n",
    "print(datetime.strptime(\"2008-06-07 23:00:00\", \"%Y-%m-%d %H:%M:%S\"))\n",
    "print(datetime.strptime(\"2008-06-07\", \"%Y-%m-%d\"))"
   ]
  },
  {
   "cell_type": "code",
   "execution_count": 114,
   "metadata": {},
   "outputs": [
    {
     "name": "stdout",
     "output_type": "stream",
     "text": [
      "2008-06-07 23:59:59\n"
     ]
    }
   ],
   "source": [
    "a = datetime.strptime(\"2008-06-07\", \"%Y-%m-%d\").replace(hour=23, minute=59, second=59)\n",
    "print(a)"
   ]
  }
 ],
 "metadata": {
  "kernelspec": {
   "display_name": ".venv",
   "language": "python",
   "name": "python3"
  },
  "language_info": {
   "codemirror_mode": {
    "name": "ipython",
    "version": 3
   },
   "file_extension": ".py",
   "mimetype": "text/x-python",
   "name": "python",
   "nbconvert_exporter": "python",
   "pygments_lexer": "ipython3",
   "version": "3.10.10"
  },
  "orig_nbformat": 4
 },
 "nbformat": 4,
 "nbformat_minor": 2
}
