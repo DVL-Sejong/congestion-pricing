{
 "cells": [
  {
   "cell_type": "code",
   "execution_count": 1,
   "metadata": {},
   "outputs": [],
   "source": [
    "import json\n",
    "\n",
    "# GeoJSON 파일을 열고 파싱\n",
    "with open('../static/data/sanfrancisco/Analysis Neighborhoods(b).geojson') as f:\n",
    "    data = json.load(f)\n"
   ]
  },
  {
   "cell_type": "code",
   "execution_count": 11,
   "metadata": {},
   "outputs": [],
   "source": [
    "from shapely.geometry import MultiPolygon, shape, Point\n",
    "from shapely.ops import transform\n",
    "from functools import partial\n",
    "\n",
    "def get_center_coords(feature):\n",
    "    geom = shape(feature['geometry'])\n",
    "    if isinstance(geom, MultiPolygon):\n",
    "        center = geom.centroid\n",
    "        return (center.x, center.y)\n",
    "    raise(ValueError)"
   ]
  },
  {
   "cell_type": "code",
   "execution_count": 13,
   "metadata": {},
   "outputs": [],
   "source": [
    "center_coords = {}\n",
    "for feature in data['features']:\n",
    "    center_coords[feature['properties']['nhood']] = get_center_coords(feature)"
   ]
  },
  {
   "cell_type": "code",
   "execution_count": 14,
   "metadata": {},
   "outputs": [
    {
     "data": {
      "text/plain": [
       "{'Western Addition': (-122.43063021472632, 37.78183144939791),\n",
       " 'West of Twin Peaks': (-122.45993723048504, 37.735181418386375),\n",
       " 'Visitacion Valley': (-122.41010445528848, 37.712867337684344),\n",
       " 'Twin Peaks': (-122.44979709350034, 37.75211300846905),\n",
       " 'South of Market': (-122.40592805793176, 37.77724924146785),\n",
       " 'Treasure Island': (-122.36953980997333, 37.8206554812255),\n",
       " 'Presidio Heights': (-122.45165833110431, 37.786313147783716),\n",
       " 'Presidio': (-122.46636996458388, 37.7973765065593),\n",
       " 'Potrero Hill': (-122.3936019791845, 37.75887233168232),\n",
       " 'Portola': (-122.40899337771215, 37.7267923279313),\n",
       " 'Pacific Heights': (-122.43482674687183, 37.791019444112266),\n",
       " 'Outer Richmond': (-122.49182341438947, 37.77806484513818),\n",
       " 'Outer Mission': (-122.44392059105262, 37.720648563612386),\n",
       " 'Sunset/Parkside': (-122.49255000123725, 37.748384710159726),\n",
       " 'Oceanview/Merced/Ingleside': (-122.46091452215951, 37.716997879887224),\n",
       " 'North Beach': (-122.40964349148959, 37.804647588156676),\n",
       " 'Noe Valley': (-122.43332385528063, 37.74891774378634),\n",
       " 'Lone Mountain/USF': (-122.44959957462473, 37.777618650047884),\n",
       " 'Lincoln Park': (-122.50140780665066, 37.78448423592837),\n",
       " 'Seacliff': (-122.48686805360167, 37.786684905187336),\n",
       " 'Nob Hill': (-122.4149507121726, 37.79180344329797),\n",
       " 'Mission Bay': (-122.39355884099785, 37.7716627253053),\n",
       " 'Mission': (-122.41550390266585, 37.7601258502583),\n",
       " 'Russian Hill': (-122.4198372109244, 37.80048804784399),\n",
       " 'Marina': (-122.43636692842702, 37.80144244586652),\n",
       " 'Lakeshore': (-122.4903515173363, 37.720209164176175),\n",
       " 'Tenderloin': (-122.41526272440844, 37.78315698848259),\n",
       " 'McLaren Park': (-122.41869407886226, 37.717937494940074),\n",
       " 'Japantown': (-122.43413492161089, 37.785092192664855),\n",
       " 'Inner Sunset': (-122.46473155172502, 37.75847303416878),\n",
       " 'Hayes Valley': (-122.42904372967463, 37.77478700969121),\n",
       " 'Haight Ashbury': (-122.4444672106206, 37.768373646804584),\n",
       " 'Golden Gate Park': (-122.48192216433705, 37.76902910808686),\n",
       " 'Inner Richmond': (-122.46543392872279, 37.780949948674845),\n",
       " 'Glen Park': (-122.43632551616767, 37.73960455009633),\n",
       " 'Financial District/South Beach': (-122.39705329901987, 37.79041816615895),\n",
       " 'Excelsior': (-122.4318073168281, 37.71856246204553),\n",
       " 'Chinatown': (-122.40708086999001, 37.79613982568641),\n",
       " 'Castro/Upper Market': (-122.43521697779391, 37.76231895148072),\n",
       " 'Bernal Heights': (-122.41566403082722, 37.74036373874125),\n",
       " 'Bayview Hunters Point': (-122.38601633201684, 37.73088925950828)}"
      ]
     },
     "execution_count": 14,
     "metadata": {},
     "output_type": "execute_result"
    }
   ],
   "source": [
    "center_coords"
   ]
  },
  {
   "cell_type": "code",
   "execution_count": 15,
   "metadata": {},
   "outputs": [
    {
     "data": {
      "text/plain": [
       "'{\"Western Addition\": [-122.43063021472632, 37.78183144939791], \"West of Twin Peaks\": [-122.45993723048504, 37.735181418386375], \"Visitacion Valley\": [-122.41010445528848, 37.712867337684344], \"Twin Peaks\": [-122.44979709350034, 37.75211300846905], \"South of Market\": [-122.40592805793176, 37.77724924146785], \"Treasure Island\": [-122.36953980997333, 37.8206554812255], \"Presidio Heights\": [-122.45165833110431, 37.786313147783716], \"Presidio\": [-122.46636996458388, 37.7973765065593], \"Potrero Hill\": [-122.3936019791845, 37.75887233168232], \"Portola\": [-122.40899337771215, 37.7267923279313], \"Pacific Heights\": [-122.43482674687183, 37.791019444112266], \"Outer Richmond\": [-122.49182341438947, 37.77806484513818], \"Outer Mission\": [-122.44392059105262, 37.720648563612386], \"Sunset/Parkside\": [-122.49255000123725, 37.748384710159726], \"Oceanview/Merced/Ingleside\": [-122.46091452215951, 37.716997879887224], \"North Beach\": [-122.40964349148959, 37.804647588156676], \"Noe Valley\": [-122.43332385528063, 37.74891774378634], \"Lone Mountain/USF\": [-122.44959957462473, 37.777618650047884], \"Lincoln Park\": [-122.50140780665066, 37.78448423592837], \"Seacliff\": [-122.48686805360167, 37.786684905187336], \"Nob Hill\": [-122.4149507121726, 37.79180344329797], \"Mission Bay\": [-122.39355884099785, 37.7716627253053], \"Mission\": [-122.41550390266585, 37.7601258502583], \"Russian Hill\": [-122.4198372109244, 37.80048804784399], \"Marina\": [-122.43636692842702, 37.80144244586652], \"Lakeshore\": [-122.4903515173363, 37.720209164176175], \"Tenderloin\": [-122.41526272440844, 37.78315698848259], \"McLaren Park\": [-122.41869407886226, 37.717937494940074], \"Japantown\": [-122.43413492161089, 37.785092192664855], \"Inner Sunset\": [-122.46473155172502, 37.75847303416878], \"Hayes Valley\": [-122.42904372967463, 37.77478700969121], \"Haight Ashbury\": [-122.4444672106206, 37.768373646804584], \"Golden Gate Park\": [-122.48192216433705, 37.76902910808686], \"Inner Richmond\": [-122.46543392872279, 37.780949948674845], \"Glen Park\": [-122.43632551616767, 37.73960455009633], \"Financial District/South Beach\": [-122.39705329901987, 37.79041816615895], \"Excelsior\": [-122.4318073168281, 37.71856246204553], \"Chinatown\": [-122.40708086999001, 37.79613982568641], \"Castro/Upper Market\": [-122.43521697779391, 37.76231895148072], \"Bernal Heights\": [-122.41566403082722, 37.74036373874125], \"Bayview Hunters Point\": [-122.38601633201684, 37.73088925950828]}'"
      ]
     },
     "execution_count": 15,
     "metadata": {},
     "output_type": "execute_result"
    }
   ],
   "source": [
    "json.dumps(center_coords)"
   ]
  },
  {
   "cell_type": "code",
   "execution_count": null,
   "metadata": {},
   "outputs": [],
   "source": []
  }
 ],
 "metadata": {
  "kernelspec": {
   "display_name": ".venv",
   "language": "python",
   "name": "python3"
  },
  "language_info": {
   "codemirror_mode": {
    "name": "ipython",
    "version": 3
   },
   "file_extension": ".py",
   "mimetype": "text/x-python",
   "name": "python",
   "nbconvert_exporter": "python",
   "pygments_lexer": "ipython3",
   "version": "3.10.10"
  },
  "orig_nbformat": 4
 },
 "nbformat": 4,
 "nbformat_minor": 2
}
